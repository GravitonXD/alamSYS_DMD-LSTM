{
 "cells": [
  {
   "attachments": {},
   "cell_type": "markdown",
   "metadata": {},
   "source": [
    "# PREPROCCESOR - DATA COLLECTION"
   ]
  },
  {
   "attachments": {},
   "cell_type": "markdown",
   "metadata": {},
   "source": [
    "## API KEY SETUP\n",
    "Make sure to add your API key from EOD Historical Data to the environment variable as `EOD_API_KEY` before running the notebook."
   ]
  },
  {
   "cell_type": "code",
   "execution_count": 1,
   "metadata": {},
   "outputs": [],
   "source": [
    "# Set API KEY\n",
    "import os\n",
    "\n",
    "# Set API KEY on the environment variable as EOD_API_KEY\n",
    "API_KEY = os.environ['EOD_API_KEY']"
   ]
  },
  {
   "cell_type": "code",
   "execution_count": 2,
   "metadata": {},
   "outputs": [
    {
     "name": "stdout",
     "output_type": "stream",
     "text": [
      "API KEY is set\n"
     ]
    }
   ],
   "source": [
    "# Check if API KEY is set\n",
    "if API_KEY == '':\n",
    "    print('API KEY is not set')\n",
    "else:\n",
    "    print('API KEY is set')"
   ]
  },
  {
   "attachments": {},
   "cell_type": "markdown",
   "metadata": {},
   "source": [
    "## DATA COLLECTION\n",
    "The data will be collected from EODHD's API and stored in a CSV file. The data will be collected for the following stock symbols:\n",
    "1. PSEI\n",
    "2. MEG\n",
    "3. JGS\n",
    "4. BDO\n",
    "5. ICT\n",
    "7. ALI\n",
    "8. TEL\n",
    "9. GLO\n",
    "10. BLOOM\n",
    "11. RLC\n",
    "12. MER\n",
    "13. AC\n",
    "14. PGOLD\n",
    "15. LTG\n",
    "16. MPI\n",
    "17. AP\n",
    "18. RRHI\n",
    "19. URC\n",
    "20. FGEN"
   ]
  },
  {
   "cell_type": "code",
   "execution_count": 3,
   "metadata": {},
   "outputs": [
    {
     "name": "stdout",
     "output_type": "stream",
     "text": [
      "Stock Symbols: ['MEG', 'JGS', 'BDO', 'ICT', 'ALI', 'TEL', 'GLO', 'BLOOM', 'RLC', 'MER', 'AC', 'PGOLD', 'LTG', 'MPI', 'AP', 'RRHI', 'URC', 'FGEN']\n"
     ]
    }
   ],
   "source": [
    "# List of stock symbols\n",
    "symbols = [\"MEG\",\"JGS\",\"BDO\",\"ICT\",\"ALI\",\"TEL\",\"GLO\", \"BLOOM\", \"RLC\", \n",
    "\"MER\", \"AC\", \"PGOLD\", \"LTG\", \"MPI\", \"AP\", \"RRHI\", \"URC\", \"FGEN\"]\n",
    "\n",
    "print(f\"Stock Symbols: {symbols}\")"
   ]
  },
  {
   "cell_type": "code",
   "execution_count": 4,
   "metadata": {},
   "outputs": [],
   "source": [
    "# Import the necessary libraries for data collection\n",
    "import requests\n",
    "import datetime\n",
    "import os"
   ]
  },
  {
   "cell_type": "code",
   "execution_count": 5,
   "metadata": {},
   "outputs": [
    {
     "name": "stdout",
     "output_type": "stream",
     "text": [
      "Collection Date: 2023-02-10\n",
      "Collection Time: 21:45:46\n"
     ]
    }
   ],
   "source": [
    "# Collection Date and Time\n",
    "collection_date = datetime.datetime.now().strftime(\"%Y-%m-%d\")\n",
    "collection_time = datetime.datetime.now().strftime(\"%H:%M:%S\")\n",
    "\n",
    "print(f\"Collection Date: {collection_date}\")\n",
    "print(f\"Collection Time: {collection_time}\")"
   ]
  },
  {
   "cell_type": "code",
   "execution_count": 6,
   "metadata": {},
   "outputs": [],
   "source": [
    "# Create a data directory (if it does not exist)\n",
    "if not os.path.exists('data'):\n",
    "    os.makedirs('data')\n",
    "else:\n",
    "    print('Data directory already exists')"
   ]
  },
  {
   "cell_type": "code",
   "execution_count": 7,
   "metadata": {},
   "outputs": [],
   "source": [
    "# Collection of Data for PSEI\n",
    "url = f\"https://eodhistoricaldata.com/api/eod/PSEI.INDX?api_token={API_KEY}&period=d&from=1985-01-03\"\n",
    "response = requests.get(url)"
   ]
  },
  {
   "cell_type": "code",
   "execution_count": 8,
   "metadata": {},
   "outputs": [
    {
     "name": "stdout",
     "output_type": "stream",
     "text": [
      "Response is successful\n"
     ]
    }
   ],
   "source": [
    "# Check if the response is successful\n",
    "if response.status_code == 200:\n",
    "    print('Response is successful')\n",
    "    # Save the response to a CSV file in the data folder\n",
    "    \n",
    "else:\n",
    "    print('Response is not successful')"
   ]
  },
  {
   "cell_type": "code",
   "execution_count": 9,
   "metadata": {},
   "outputs": [],
   "source": [
    "# Save PSEI data\n",
    "with open('data/PSEI.csv', 'w') as f:\n",
    "    f.write(response.text)"
   ]
  },
  {
   "cell_type": "code",
   "execution_count": 10,
   "metadata": {},
   "outputs": [
    {
     "name": "stdout",
     "output_type": "stream",
     "text": [
      "Response for MEG is successful\n",
      "Response for JGS is successful\n",
      "Response for BDO is successful\n",
      "Response for ICT is successful\n",
      "Response for ALI is successful\n",
      "Response for TEL is successful\n",
      "Response for GLO is successful\n",
      "Response for BLOOM is successful\n",
      "Response for RLC is successful\n",
      "Response for MER is successful\n",
      "Response for AC is successful\n",
      "Response for PGOLD is successful\n",
      "Response for LTG is successful\n",
      "Response for MPI is successful\n",
      "Response for AP is successful\n",
      "Response for RRHI is successful\n",
      "Response for URC is successful\n",
      "Response for FGEN is successful\n"
     ]
    }
   ],
   "source": [
    "# Collection of Data for each Stock Symbols\n",
    "for symbol in symbols:\n",
    "    url = f\"https://eodhistoricaldata.com/api/eod/{symbol}.PSE?api_token={API_KEY}&period=d\"\n",
    "    response = requests.get(url)\n",
    "\n",
    "    # Check if the response is successful\n",
    "    if response.status_code == 200:\n",
    "        print(f\"Response for {symbol} is successful\")\n",
    "        # Save the response to a CSV file in the data folder\n",
    "        with open(f'data/{symbol}.csv', 'w') as f:\n",
    "            f.write(response.text)\n",
    "    else:\n",
    "        print(f\"Response for {symbol} is not successful\")"
   ]
  }
 ],
 "metadata": {
  "kernelspec": {
   "display_name": "Python 3",
   "language": "python",
   "name": "python3"
  },
  "language_info": {
   "codemirror_mode": {
    "name": "ipython",
    "version": 3
   },
   "file_extension": ".py",
   "mimetype": "text/x-python",
   "name": "python",
   "nbconvert_exporter": "python",
   "pygments_lexer": "ipython3",
   "version": "3.11.1"
  },
  "orig_nbformat": 4,
  "vscode": {
   "interpreter": {
    "hash": "bce94cf5ba4e91c139e25acaf699abf418036a78723bf02e000e119123230ea1"
   }
  }
 },
 "nbformat": 4,
 "nbformat_minor": 2
}
