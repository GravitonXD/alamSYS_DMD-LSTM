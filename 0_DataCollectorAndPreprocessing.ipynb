{
 "cells": [
  {
   "cell_type": "markdown",
   "metadata": {},
   "source": [
    "# DATA COLLECTOR AND DATA PRE-PROCESSING\n",
    "Collects data from EODH using API KEY\n",
    "\n",
    "Author: John Markton M. Olarte"
   ]
  },
  {
   "cell_type": "markdown",
   "metadata": {},
   "source": [
    "## Data Variable Preparations"
   ]
  },
  {
   "cell_type": "code",
   "execution_count": 1,
   "metadata": {},
   "outputs": [],
   "source": [
    "# Import the necessary libraries for data collection\n",
    "import requests\n",
    "import datetime\n",
    "import os"
   ]
  },
  {
   "cell_type": "code",
   "execution_count": 2,
   "metadata": {},
   "outputs": [
    {
     "name": "stdout",
     "output_type": "stream",
     "text": [
      "API KEY : 63383c55a0e047.85276525\n"
     ]
    }
   ],
   "source": [
    "# Import API Key from OS Environment Variables\n",
    "# Data Provided EODHD: https://eodhd.com/\n",
    "API_KEY = os.environ['EOD_API_KEY']\n",
    "print(f\"API KEY : {API_KEY}\")"
   ]
  },
  {
   "cell_type": "code",
   "execution_count": 3,
   "metadata": {},
   "outputs": [
    {
     "data": {
      "text/plain": [
       "['MEG',\n",
       " 'JGS',\n",
       " 'BDO',\n",
       " 'ICT',\n",
       " 'ALI',\n",
       " 'TEL',\n",
       " 'GLO',\n",
       " 'BLOOM',\n",
       " 'RLC',\n",
       " 'MER',\n",
       " 'AC',\n",
       " 'PGOLD',\n",
       " 'LTG',\n",
       " 'MPI',\n",
       " 'AP',\n",
       " 'RRHI',\n",
       " 'URC',\n",
       " 'FGEN']"
      ]
     },
     "execution_count": 3,
     "metadata": {},
     "output_type": "execute_result"
    }
   ],
   "source": [
    "# List of Stock Symbols to Process (Feel free to change this depending on your needs)\n",
    "# List of stock symbols\n",
    "symbols = [\"MEG\",\"JGS\",\"BDO\",\"ICT\",\"ALI\",\"TEL\",\"GLO\", \"BLOOM\", \"RLC\", \n",
    "\"MER\", \"AC\", \"PGOLD\", \"LTG\", \"MPI\", \"AP\", \"RRHI\", \"URC\", \"FGEN\"]\n",
    "symbols"
   ]
  },
  {
   "cell_type": "code",
   "execution_count": 4,
   "metadata": {},
   "outputs": [
    {
     "name": "stdout",
     "output_type": "stream",
     "text": [
      "Data directory already exists\n"
     ]
    }
   ],
   "source": [
    "# Create a data directory (if it does not exist)\n",
    "if not os.path.exists('data'):\n",
    "    os.makedirs('data')\n",
    "    print(\"Data directory created successfully\")\n",
    "else:\n",
    "    print('Data directory already exists')"
   ]
  },
  {
   "cell_type": "markdown",
   "metadata": {},
   "source": [
    "## Data Collection"
   ]
  },
  {
   "cell_type": "code",
   "execution_count": 5,
   "metadata": {},
   "outputs": [
    {
     "name": "stdout",
     "output_type": "stream",
     "text": [
      "Data Collected on 2024-01-07 at 21:08:05\n"
     ]
    }
   ],
   "source": [
    "# Collection Date and Time\n",
    "collection_date = datetime.datetime.now().strftime(\"%Y-%m-%d\")\n",
    "collection_time = datetime.datetime.now().strftime(\"%H:%M:%S\")\n",
    "\n",
    "print(f\"Data Collected on {collection_date} at {collection_time}\")"
   ]
  },
  {
   "cell_type": "code",
   "execution_count": 6,
   "metadata": {},
   "outputs": [
    {
     "name": "stdout",
     "output_type": "stream",
     "text": [
      "Response is successful\n",
      "PSEI data successfully saved\n"
     ]
    }
   ],
   "source": [
    "# Collect PSEI Data\n",
    "url = f\"https://eodhistoricaldata.com/api/eod/PSEI.INDX?api_token={API_KEY}&period=d\"\n",
    "response = requests.get(url)\n",
    "\n",
    "# Check if the response is successful\n",
    "if response.status_code == 200:\n",
    "    print('Response is successful')\n",
    "    # Save the response to a CSV file in the data folder\n",
    "    with open('data/PSEI.csv', 'w') as f:\n",
    "        f.write(response.text)\n",
    "    print('PSEI data successfully saved')\n",
    "    \n",
    "else:\n",
    "    print('Response is not successful')"
   ]
  },
  {
   "cell_type": "code",
   "execution_count": 7,
   "metadata": {},
   "outputs": [
    {
     "name": "stdout",
     "output_type": "stream",
     "text": [
      "Response for MEG is successful\n",
      "Data for MEG was successfully saved\n",
      "\n",
      "Response for JGS is successful\n",
      "Data for JGS was successfully saved\n",
      "\n",
      "Response for BDO is successful\n",
      "Data for BDO was successfully saved\n",
      "\n",
      "Response for ICT is successful\n",
      "Data for ICT was successfully saved\n",
      "\n",
      "Response for ALI is successful\n",
      "Data for ALI was successfully saved\n",
      "\n",
      "Response for TEL is successful\n",
      "Data for TEL was successfully saved\n",
      "\n",
      "Response for GLO is successful\n",
      "Data for GLO was successfully saved\n",
      "\n",
      "Response for BLOOM is successful\n",
      "Data for BLOOM was successfully saved\n",
      "\n",
      "Response for RLC is successful\n",
      "Data for RLC was successfully saved\n",
      "\n",
      "Response for MER is successful\n",
      "Data for MER was successfully saved\n",
      "\n"
     ]
    }
   ],
   "source": [
    "# Collect Other Stocks as indicated in the list of symbols\n",
    "for symbol in symbols:\n",
    "    url = f\"https://eodhistoricaldata.com/api/eod/{symbol}.PSE?api_token={API_KEY}&period=d\"\n",
    "    response = requests.get(url)\n",
    "\n",
    "    # Check if the response is successful\n",
    "    if response.status_code == 200:\n",
    "        print(f\"Response for {symbol} is successful\")\n",
    "        # Save the response to a CSV file in the data folder\n",
    "        with open(f'data/{symbol}.csv', 'w') as f:\n",
    "            f.write(response.text)\n",
    "        print(f\"Data for {symbol} was successfully saved\\n\")\n",
    "    else:\n",
    "        print(f\"Response for {symbol} is not successful\")"
   ]
  }
 ],
 "metadata": {
  "kernelspec": {
   "display_name": "Python 3",
   "language": "python",
   "name": "python3"
  },
  "language_info": {
   "codemirror_mode": {
    "name": "ipython",
    "version": 3
   },
   "file_extension": ".py",
   "mimetype": "text/x-python",
   "name": "python",
   "nbconvert_exporter": "python",
   "pygments_lexer": "ipython3",
   "version": "3.11.1"
  }
 },
 "nbformat": 4,
 "nbformat_minor": 2
}
