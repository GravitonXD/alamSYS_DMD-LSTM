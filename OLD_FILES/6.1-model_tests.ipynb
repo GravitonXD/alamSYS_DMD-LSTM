{
 "cells": [
  {
   "attachments": {},
   "cell_type": "markdown",
   "metadata": {},
   "source": [
    "# Model Tests\n",
    "Each model will be tested against other stocks in the list"
   ]
  },
  {
   "cell_type": "code",
   "execution_count": 1,
   "metadata": {},
   "outputs": [],
   "source": [
    "import tensorflow as tf\n",
    "import numpy as np\n",
    "import pandas as pd\n",
    "import matplotlib.pyplot as plt\n",
    "from math import sqrt\n",
    "from sklearn.metrics import mean_squared_error, mean_absolute_error, mean_absolute_percentage_error\n",
    "from os import makedirs"
   ]
  },
  {
   "attachments": {},
   "cell_type": "markdown",
   "metadata": {},
   "source": [
    "## Data Preprocessing"
   ]
  },
  {
   "cell_type": "code",
   "execution_count": 2,
   "metadata": {},
   "outputs": [],
   "source": [
    "stock_dict = {\n",
    "    'MEG': [],\n",
    "    'JGS': [],\n",
    "    'BDO': [],\n",
    "    'FGEN': [],\n",
    "    'ICT': [],\n",
    "    'ALI': [],\n",
    "    'SMC': [],\n",
    "    'TEL': [],\n",
    "    'GLO': [],\n",
    "    'BLOOM': [],\n",
    "    'RLC': [],\n",
    "    'MER': [],\n",
    "    'AC': [],\n",
    "    'PGOLD': [],\n",
    "    'LTG': [],\n",
    "    'MPI': [],\n",
    "    'AP': [],\n",
    "    'RRHI': [],\n",
    "    'URC': [],\n",
    "    'PSEI': []\n",
    "}"
   ]
  },
  {
   "cell_type": "code",
   "execution_count": 3,
   "metadata": {},
   "outputs": [
    {
     "name": "stdout",
     "output_type": "stream",
     "text": [
      "{'MEG': array([0.85049275, 0.83919368, 0.82776548, ..., 0.86288996, 0.83724752,\n",
      "       0.85015093]), 'JGS': array([2.03010685, 2.04057077, 2.04057077, ..., 3.98898405, 3.98154907,\n",
      "       3.98713048]), 'BDO': array([2.88406301, 2.88406301, 2.88406301, ..., 4.83628191, 4.82831374,\n",
      "       4.83230576]), 'FGEN': array([2.97533057, 2.98625753, 2.98625753, ..., 2.89591194, 2.90032209,\n",
      "       2.89148225]), 'ICT': array([1.59300361, 1.59300361, 1.54361857, ..., 5.35658627, 5.35375207,\n",
      "       5.36597602]), 'ALI': array([1.93349049, 1.93349049, 2.23886757, ..., 3.37416871, 3.37073817,\n",
      "       3.37587957]), 'SMC': array([3.82597262, 3.82597262, 3.78386003, ..., 4.72472942, 4.70048037,\n",
      "       4.67749085]), 'TEL': array([6.71840911, 6.71840911, 6.55108034, ..., 7.24064969, 7.22983878,\n",
      "       7.22983878]), 'GLO': array([6.61992746, 6.63283081, 6.6068553 , ..., 7.64491934, 7.64012317,\n",
      "       7.60887063]), 'BLOOM': array([-0.32850407, -0.35667494, -0.10536052, ...,  2.24070969,\n",
      "        2.24495598,  2.24601474]), 'RLC': array([1.08427669, 1.09717793, 1.19480087, ..., 2.7985001 , 2.79116511,\n",
      "       2.78130066]), 'MER': array([4.56334039, 4.55567738, 4.57849248, ..., 5.68357977, 5.6454469 ,\n",
      "       5.75257264]), 'AC': array([5.28952483, 5.27645256, 5.32774606, ..., 6.57088296, 6.55108034,\n",
      "       6.55108034]), 'PGOLD': array([2.36837283, 2.39425228, 2.4510051 , ..., 3.51749784, 3.5204608 ,\n",
      "       3.50405477]), 'LTG': array([-1.99216353, -2.17507177,  0.67477952, ...,  2.32238772,\n",
      "        2.33020026,  2.33020026]), 'MPI': array([0.40546511, 0.80647587, 1.20896035, ..., 1.42310833, 1.44220199,\n",
      "       1.43983513]), 'AP': array([1.75785792, 1.70474809, 1.7227666 , ..., 3.62966009, 3.63098548,\n",
      "       3.63098548]), 'RRHI': array([4.03424064, 4.07753744, 4.09267651, ..., 4.04480412, 4.07414185,\n",
      "       4.06902675]), 'URC': array([2.45899037, 2.44480488, 2.44480488, ..., 4.99043259, 4.96284463,\n",
      "       4.97673374]), 'PSEI': array([2.18380029, 2.18379888, 2.18452756, ..., 2.17958276, 2.17826269,\n",
      "       2.17882379])}\n"
     ]
    }
   ],
   "source": [
    "for index, key in enumerate(stock_dict):\n",
    "    # Loading of datasets to the dictionary of stocks\n",
    "    # We will only use the closing prices, hence we set usecols to index:4\n",
    "    data = np.genfromtxt(f'data/{key}.csv', delimiter=',', skip_header=1, usecols=4)\n",
    "    data = np.log(data)\n",
    "\n",
    "    # If PSEI, we cut the data (include only the test data)\n",
    "    if key == 'PSEI':\n",
    "        len_data = len(data)\n",
    "        data = data[int(len_data*0.80):]\n",
    "        data = np.log(data)\n",
    "    stock_dict[key] = data\n",
    "\n",
    "print(stock_dict)"
   ]
  },
  {
   "cell_type": "code",
   "execution_count": 4,
   "metadata": {},
   "outputs": [
    {
     "name": "stdout",
     "output_type": "stream",
     "text": [
      "['MEG', 'JGS', 'BDO', 'FGEN', 'ICT', 'ALI', 'SMC', 'TEL', 'GLO', 'BLOOM', 'RLC', 'MER', 'AC', 'PGOLD', 'LTG', 'MPI', 'AP', 'RRHI', 'URC', 'PSEI']\n"
     ]
    }
   ],
   "source": [
    "stock_symbols = [keys for index,keys in enumerate(stock_dict)]\n",
    "print(stock_symbols)"
   ]
  },
  {
   "cell_type": "code",
   "execution_count": 5,
   "metadata": {},
   "outputs": [],
   "source": [
    "# Creating a windowed datasets for training, using the following window sizes (5, 10, 15, 20)\n",
    "windowed_sizes = [5, 10, 15, 20]\n",
    "windowed_data = [0, 0, 0, 0]\n",
    "\n",
    "# Initialize index counter \n",
    "idx_counter = 0\n",
    "\n",
    "# Loop through the different window sizes\n",
    "X_stock_dict = stock_dict.copy()\n",
    "idx_counter = 0\n",
    "for stock in stock_symbols:\n",
    "    len_data = X_stock_dict[stock].shape[0]\n",
    "    for window_size in windowed_sizes:\n",
    "        train_data = np.zeros((len_data - window_size, window_size))\n",
    "        for i in range(len_data - window_size):\n",
    "            train_data[i] = X_stock_dict[stock][i:i + window_size]\n",
    "        windowed_data[idx_counter] = train_data\n",
    "        idx_counter += 1\n",
    "\n",
    "    X_stock_dict[stock] = windowed_data\n",
    "    # Reset windowed_data and idx_counter\n",
    "    windowed_data = [0, 0, 0, 0]\n",
    "    idx_counter = 0"
   ]
  },
  {
   "attachments": {},
   "cell_type": "markdown",
   "metadata": {},
   "source": [
    "## Predicting each stocks for every model"
   ]
  },
  {
   "cell_type": "code",
   "execution_count": 6,
   "metadata": {},
   "outputs": [
    {
     "name": "stdout",
     "output_type": "stream",
     "text": [
      "211/211 [==============================] - 0s 893us/step\n",
      "204/204 [==============================] - 0s 1ms/step\n",
      "158/158 [==============================] - 0s 911us/step\n",
      "130/130 [==============================] - 0s 885us/step\n",
      "213/213 [==============================] - 0s 857us/step\n",
      "212/212 [==============================] - 0s 1ms/step\n",
      "213/213 [==============================] - 0s 911us/step\n",
      "213/213 [==============================] - 0s 852us/step\n",
      "210/210 [==============================] - 0s 863us/step\n",
      "95/95 [==============================] - 0s 878us/step\n",
      "184/184 [==============================] - 0s 937us/step\n",
      "213/213 [==============================] - 0s 862us/step\n",
      "213/213 [==============================] - 0s 1ms/step\n",
      "87/87 [==============================] - 0s 876us/step\n",
      "118/118 [==============================] - 0s 880us/step\n",
      "122/122 [==============================] - 0s 1ms/step\n",
      "119/119 [==============================] - 0s 914us/step\n",
      "71/71 [==============================] - 0s 2ms/step\n",
      "192/192 [==============================] - 0s 962us/step\n",
      "36/36 [==============================] - 0s 976us/step\n"
     ]
    },
    {
     "data": {
      "text/plain": [
       "<Figure size 1000x500 with 0 Axes>"
      ]
     },
     "metadata": {},
     "output_type": "display_data"
    },
    {
     "data": {
      "text/plain": [
       "<Figure size 1000x500 with 0 Axes>"
      ]
     },
     "metadata": {},
     "output_type": "display_data"
    },
    {
     "data": {
      "text/plain": [
       "<Figure size 1000x500 with 0 Axes>"
      ]
     },
     "metadata": {},
     "output_type": "display_data"
    },
    {
     "data": {
      "text/plain": [
       "<Figure size 1000x500 with 0 Axes>"
      ]
     },
     "metadata": {},
     "output_type": "display_data"
    },
    {
     "data": {
      "text/plain": [
       "<Figure size 1000x500 with 0 Axes>"
      ]
     },
     "metadata": {},
     "output_type": "display_data"
    },
    {
     "data": {
      "text/plain": [
       "<Figure size 1000x500 with 0 Axes>"
      ]
     },
     "metadata": {},
     "output_type": "display_data"
    },
    {
     "data": {
      "text/plain": [
       "<Figure size 1000x500 with 0 Axes>"
      ]
     },
     "metadata": {},
     "output_type": "display_data"
    },
    {
     "data": {
      "text/plain": [
       "<Figure size 1000x500 with 0 Axes>"
      ]
     },
     "metadata": {},
     "output_type": "display_data"
    },
    {
     "data": {
      "text/plain": [
       "<Figure size 1000x500 with 0 Axes>"
      ]
     },
     "metadata": {},
     "output_type": "display_data"
    },
    {
     "data": {
      "text/plain": [
       "<Figure size 1000x500 with 0 Axes>"
      ]
     },
     "metadata": {},
     "output_type": "display_data"
    },
    {
     "data": {
      "text/plain": [
       "<Figure size 1000x500 with 0 Axes>"
      ]
     },
     "metadata": {},
     "output_type": "display_data"
    },
    {
     "data": {
      "text/plain": [
       "<Figure size 1000x500 with 0 Axes>"
      ]
     },
     "metadata": {},
     "output_type": "display_data"
    },
    {
     "data": {
      "text/plain": [
       "<Figure size 1000x500 with 0 Axes>"
      ]
     },
     "metadata": {},
     "output_type": "display_data"
    },
    {
     "data": {
      "text/plain": [
       "<Figure size 1000x500 with 0 Axes>"
      ]
     },
     "metadata": {},
     "output_type": "display_data"
    },
    {
     "data": {
      "text/plain": [
       "<Figure size 1000x500 with 0 Axes>"
      ]
     },
     "metadata": {},
     "output_type": "display_data"
    },
    {
     "data": {
      "text/plain": [
       "<Figure size 1000x500 with 0 Axes>"
      ]
     },
     "metadata": {},
     "output_type": "display_data"
    },
    {
     "data": {
      "text/plain": [
       "<Figure size 1000x500 with 0 Axes>"
      ]
     },
     "metadata": {},
     "output_type": "display_data"
    },
    {
     "data": {
      "text/plain": [
       "<Figure size 1000x500 with 0 Axes>"
      ]
     },
     "metadata": {},
     "output_type": "display_data"
    },
    {
     "data": {
      "text/plain": [
       "<Figure size 1000x500 with 0 Axes>"
      ]
     },
     "metadata": {},
     "output_type": "display_data"
    },
    {
     "data": {
      "text/plain": [
       "<Figure size 1000x500 with 0 Axes>"
      ]
     },
     "metadata": {},
     "output_type": "display_data"
    }
   ],
   "source": [
    "# Load the model_s5\n",
    "model = tf.keras.models.load_model('exported_models/model_s5.keras')\n",
    "\n",
    "# Initialize pandas dataframe for model_s5\n",
    "len_symbols = len(stock_symbols)\n",
    "df_model_s5 = pd.DataFrame({\n",
    "    'MSE': [0 for _ in range(len_symbols)],\n",
    "    'RMSE': [0 for _ in range(len_symbols)],\n",
    "    'MAE': [0 for _ in range(len_symbols)],\n",
    "    'MAPE': [0 for _ in range(len_symbols)]\n",
    "}, index=[stock for stock in stock_symbols])\n",
    "\n",
    "# Predict for all stocks using model_s5\n",
    "for stock in stock_symbols:\n",
    "    predictions = model.predict(X_stock_dict[stock][0])\n",
    "    # Plot each one\n",
    "    plt.figure(figsize=(10, 5))\n",
    "    plt.plot(stock_dict[stock][0], label=f'Actual for {stock}')\n",
    "    plt.plot(predictions, label='Predicted (window_size = 5)')\n",
    "    plt.title(f\"Actual vs Predictions using model_s5 for {stock}\")\n",
    "    plt.legend()\n",
    "    # Save the graph in ./results/test_validation/graphs\n",
    "    makedirs('./results/test_validation/graphs/model_s5', exist_ok=True)\n",
    "    plt.savefig(f'./results/test_validation/graphs/model_s5/{stock}.png')\n",
    "    # Reset the figure\n",
    "    plt.clf()\n",
    "\n",
    "    len_predictions = len(predictions)\n",
    "    df_model_s5.loc[stock, 'MSE'] = mean_squared_error(stock_dict[stock][5:], predictions)\n",
    "    df_model_s5.loc[stock, 'RMSE'] = sqrt(mean_squared_error(stock_dict[stock][5:], predictions))\n",
    "    df_model_s5.loc[stock, 'MAE']= mean_absolute_error(stock_dict[stock][5:], predictions)\n",
    "    df_model_s5.loc[stock, 'MAPE'] = mean_absolute_percentage_error(stock_dict[stock][5:], predictions)"
   ]
  },
  {
   "cell_type": "code",
   "execution_count": 7,
   "metadata": {},
   "outputs": [],
   "source": [
    "# Save the dataframe in ./results/test_validation/model\n",
    "makedirs('./results/test_validation/model', exist_ok=True)\n",
    "df_model_s5.to_csv('./results/test_validation/model/model_s5.csv')"
   ]
  },
  {
   "cell_type": "code",
   "execution_count": 8,
   "metadata": {},
   "outputs": [
    {
     "name": "stdout",
     "output_type": "stream",
     "text": [
      "211/211 [==============================] - 0s 854us/step\n",
      "204/204 [==============================] - 0s 974us/step\n",
      "158/158 [==============================] - 0s 975us/step\n",
      "130/130 [==============================] - 0s 1ms/step\n",
      "213/213 [==============================] - 0s 877us/step\n",
      "212/212 [==============================] - 0s 884us/step\n",
      "213/213 [==============================] - 0s 937us/step\n",
      "213/213 [==============================] - 0s 891us/step\n",
      "210/210 [==============================] - 0s 875us/step\n",
      "95/95 [==============================] - 0s 857us/step\n",
      "184/184 [==============================] - 0s 900us/step\n",
      "213/213 [==============================] - 0s 879us/step\n",
      "213/213 [==============================] - 0s 1ms/step\n",
      "86/86 [==============================] - 0s 1ms/step\n",
      "118/118 [==============================] - 0s 896us/step\n",
      "122/122 [==============================] - 0s 1ms/step\n",
      "119/119 [==============================] - 0s 902us/step\n",
      "71/71 [==============================] - 0s 906us/step\n",
      "192/192 [==============================] - 0s 947us/step\n",
      "36/36 [==============================] - 0s 900us/step\n"
     ]
    },
    {
     "data": {
      "text/plain": [
       "<Figure size 1000x500 with 0 Axes>"
      ]
     },
     "metadata": {},
     "output_type": "display_data"
    },
    {
     "data": {
      "text/plain": [
       "<Figure size 1000x500 with 0 Axes>"
      ]
     },
     "metadata": {},
     "output_type": "display_data"
    },
    {
     "data": {
      "text/plain": [
       "<Figure size 1000x500 with 0 Axes>"
      ]
     },
     "metadata": {},
     "output_type": "display_data"
    },
    {
     "data": {
      "text/plain": [
       "<Figure size 1000x500 with 0 Axes>"
      ]
     },
     "metadata": {},
     "output_type": "display_data"
    },
    {
     "data": {
      "text/plain": [
       "<Figure size 1000x500 with 0 Axes>"
      ]
     },
     "metadata": {},
     "output_type": "display_data"
    },
    {
     "data": {
      "text/plain": [
       "<Figure size 1000x500 with 0 Axes>"
      ]
     },
     "metadata": {},
     "output_type": "display_data"
    },
    {
     "data": {
      "text/plain": [
       "<Figure size 1000x500 with 0 Axes>"
      ]
     },
     "metadata": {},
     "output_type": "display_data"
    },
    {
     "data": {
      "text/plain": [
       "<Figure size 1000x500 with 0 Axes>"
      ]
     },
     "metadata": {},
     "output_type": "display_data"
    },
    {
     "data": {
      "text/plain": [
       "<Figure size 1000x500 with 0 Axes>"
      ]
     },
     "metadata": {},
     "output_type": "display_data"
    },
    {
     "data": {
      "text/plain": [
       "<Figure size 1000x500 with 0 Axes>"
      ]
     },
     "metadata": {},
     "output_type": "display_data"
    },
    {
     "data": {
      "text/plain": [
       "<Figure size 1000x500 with 0 Axes>"
      ]
     },
     "metadata": {},
     "output_type": "display_data"
    },
    {
     "data": {
      "text/plain": [
       "<Figure size 1000x500 with 0 Axes>"
      ]
     },
     "metadata": {},
     "output_type": "display_data"
    },
    {
     "data": {
      "text/plain": [
       "<Figure size 1000x500 with 0 Axes>"
      ]
     },
     "metadata": {},
     "output_type": "display_data"
    },
    {
     "data": {
      "text/plain": [
       "<Figure size 1000x500 with 0 Axes>"
      ]
     },
     "metadata": {},
     "output_type": "display_data"
    },
    {
     "data": {
      "text/plain": [
       "<Figure size 1000x500 with 0 Axes>"
      ]
     },
     "metadata": {},
     "output_type": "display_data"
    },
    {
     "data": {
      "text/plain": [
       "<Figure size 1000x500 with 0 Axes>"
      ]
     },
     "metadata": {},
     "output_type": "display_data"
    },
    {
     "data": {
      "text/plain": [
       "<Figure size 1000x500 with 0 Axes>"
      ]
     },
     "metadata": {},
     "output_type": "display_data"
    },
    {
     "data": {
      "text/plain": [
       "<Figure size 1000x500 with 0 Axes>"
      ]
     },
     "metadata": {},
     "output_type": "display_data"
    },
    {
     "data": {
      "text/plain": [
       "<Figure size 1000x500 with 0 Axes>"
      ]
     },
     "metadata": {},
     "output_type": "display_data"
    },
    {
     "data": {
      "text/plain": [
       "<Figure size 1000x500 with 0 Axes>"
      ]
     },
     "metadata": {},
     "output_type": "display_data"
    }
   ],
   "source": [
    "# Load the model_s10\n",
    "model = tf.keras.models.load_model('exported_models/model_s10.keras')\n",
    "\n",
    "# Initialize pandas dataframe for model_s10\n",
    "len_symbols = len(stock_symbols)\n",
    "df_model_s10 = pd.DataFrame({\n",
    "    'MSE': [0 for _ in range(len_symbols)],\n",
    "    'RMSE': [0 for _ in range(len_symbols)],\n",
    "    'MAE': [0 for _ in range(len_symbols)],\n",
    "    'MAPE': [0 for _ in range(len_symbols)]\n",
    "}, index=[stock for stock in stock_symbols])\n",
    "\n",
    "# Predict for all stocks using model_s10\n",
    "for stock in stock_symbols:\n",
    "    predictions = model.predict(X_stock_dict[stock][1])\n",
    "    # Plot each one\n",
    "    plt.figure(figsize=(10, 5))\n",
    "    plt.plot(stock_dict[stock][0], label=f'Actual for {stock}')\n",
    "    plt.plot(predictions, label='Predicted (window_size = 10)')\n",
    "    plt.title(f\"Actual vs Predictions using model_s10 for {stock}\")\n",
    "    plt.legend()\n",
    "    makedirs('./results/test_validation/graphs/model_s10', exist_ok=True)\n",
    "    plt.savefig(f'./results/test_validation/graphs/model_s10/{stock}.png')\n",
    "    # Reset the figure\n",
    "    plt.clf()\n",
    "\n",
    "    len_predictions = len(predictions)\n",
    "    df_model_s10.loc[stock, 'MSE'] = mean_squared_error(stock_dict[stock][10:], predictions)\n",
    "    df_model_s10.loc[stock, 'RMSE'] = sqrt(mean_squared_error(stock_dict[stock][10:], predictions))\n",
    "    df_model_s10.loc[stock, 'MAE']= mean_absolute_error(stock_dict[stock][10:], predictions)\n",
    "    df_model_s10.loc[stock, 'MAPE'] = mean_absolute_percentage_error(stock_dict[stock][10:], predictions)"
   ]
  },
  {
   "cell_type": "code",
   "execution_count": 9,
   "metadata": {},
   "outputs": [],
   "source": [
    "# Save the dataframe in ./results/test_validation/model\n",
    "makedirs('./results/test_validation/model', exist_ok=True)\n",
    "df_model_s10.to_csv('./results/test_validation/model/model_s10.csv')"
   ]
  },
  {
   "cell_type": "code",
   "execution_count": 10,
   "metadata": {},
   "outputs": [
    {
     "name": "stdout",
     "output_type": "stream",
     "text": [
      "211/211 [==============================] - 0s 898us/step\n",
      "204/204 [==============================] - 0s 878us/step\n",
      "158/158 [==============================] - 0s 894us/step\n",
      "129/129 [==============================] - 0s 928us/step\n",
      "213/213 [==============================] - 0s 1ms/step\n",
      "212/212 [==============================] - 0s 871us/step\n",
      "212/212 [==============================] - 0s 992us/step\n",
      "213/213 [==============================] - 0s 1ms/step\n",
      "210/210 [==============================] - 0s 896us/step\n",
      "95/95 [==============================] - 0s 920us/step\n",
      "184/184 [==============================] - 0s 883us/step\n",
      "212/212 [==============================] - 0s 1ms/step\n",
      "213/213 [==============================] - 0s 878us/step\n",
      "86/86 [==============================] - 0s 887us/step\n",
      "118/118 [==============================] - 0s 972us/step\n",
      "122/122 [==============================] - 0s 1ms/step\n",
      "119/119 [==============================] - 0s 858us/step\n",
      "70/70 [==============================] - 0s 1ms/step\n",
      "192/192 [==============================] - 0s 916us/step\n",
      "35/35 [==============================] - 0s 957us/step\n"
     ]
    },
    {
     "data": {
      "text/plain": [
       "<Figure size 1000x500 with 0 Axes>"
      ]
     },
     "metadata": {},
     "output_type": "display_data"
    },
    {
     "data": {
      "text/plain": [
       "<Figure size 1000x500 with 0 Axes>"
      ]
     },
     "metadata": {},
     "output_type": "display_data"
    },
    {
     "data": {
      "text/plain": [
       "<Figure size 1000x500 with 0 Axes>"
      ]
     },
     "metadata": {},
     "output_type": "display_data"
    },
    {
     "data": {
      "text/plain": [
       "<Figure size 1000x500 with 0 Axes>"
      ]
     },
     "metadata": {},
     "output_type": "display_data"
    },
    {
     "data": {
      "text/plain": [
       "<Figure size 1000x500 with 0 Axes>"
      ]
     },
     "metadata": {},
     "output_type": "display_data"
    },
    {
     "data": {
      "text/plain": [
       "<Figure size 1000x500 with 0 Axes>"
      ]
     },
     "metadata": {},
     "output_type": "display_data"
    },
    {
     "data": {
      "text/plain": [
       "<Figure size 1000x500 with 0 Axes>"
      ]
     },
     "metadata": {},
     "output_type": "display_data"
    },
    {
     "data": {
      "text/plain": [
       "<Figure size 1000x500 with 0 Axes>"
      ]
     },
     "metadata": {},
     "output_type": "display_data"
    },
    {
     "data": {
      "text/plain": [
       "<Figure size 1000x500 with 0 Axes>"
      ]
     },
     "metadata": {},
     "output_type": "display_data"
    },
    {
     "data": {
      "text/plain": [
       "<Figure size 1000x500 with 0 Axes>"
      ]
     },
     "metadata": {},
     "output_type": "display_data"
    },
    {
     "data": {
      "text/plain": [
       "<Figure size 1000x500 with 0 Axes>"
      ]
     },
     "metadata": {},
     "output_type": "display_data"
    },
    {
     "data": {
      "text/plain": [
       "<Figure size 1000x500 with 0 Axes>"
      ]
     },
     "metadata": {},
     "output_type": "display_data"
    },
    {
     "data": {
      "text/plain": [
       "<Figure size 1000x500 with 0 Axes>"
      ]
     },
     "metadata": {},
     "output_type": "display_data"
    },
    {
     "data": {
      "text/plain": [
       "<Figure size 1000x500 with 0 Axes>"
      ]
     },
     "metadata": {},
     "output_type": "display_data"
    },
    {
     "data": {
      "text/plain": [
       "<Figure size 1000x500 with 0 Axes>"
      ]
     },
     "metadata": {},
     "output_type": "display_data"
    },
    {
     "data": {
      "text/plain": [
       "<Figure size 1000x500 with 0 Axes>"
      ]
     },
     "metadata": {},
     "output_type": "display_data"
    },
    {
     "data": {
      "text/plain": [
       "<Figure size 1000x500 with 0 Axes>"
      ]
     },
     "metadata": {},
     "output_type": "display_data"
    },
    {
     "data": {
      "text/plain": [
       "<Figure size 1000x500 with 0 Axes>"
      ]
     },
     "metadata": {},
     "output_type": "display_data"
    },
    {
     "data": {
      "text/plain": [
       "<Figure size 1000x500 with 0 Axes>"
      ]
     },
     "metadata": {},
     "output_type": "display_data"
    },
    {
     "data": {
      "text/plain": [
       "<Figure size 1000x500 with 0 Axes>"
      ]
     },
     "metadata": {},
     "output_type": "display_data"
    }
   ],
   "source": [
    "# Load the model_s15\n",
    "model = tf.keras.models.load_model('exported_models/model_s15.keras')\n",
    "\n",
    "# Initialize pandas dataframe for model_s15\n",
    "len_symbols = len(stock_symbols)\n",
    "df_model_s15 = pd.DataFrame({\n",
    "    'MSE': [0 for _ in range(len_symbols)],\n",
    "    'RMSE': [0 for _ in range(len_symbols)],\n",
    "    'MAE': [0 for _ in range(len_symbols)],\n",
    "    'MAPE': [0 for _ in range(len_symbols)]\n",
    "}, index=[stock for stock in stock_symbols])\n",
    "\n",
    "# Predict for all stocks using model_s15\n",
    "for stock in stock_symbols:\n",
    "    predictions = model.predict(X_stock_dict[stock][2])\n",
    "    # Plot each one\n",
    "    plt.figure(figsize=(10, 5))\n",
    "    plt.plot(stock_dict[stock][0], label=f'Actual for {stock}')\n",
    "    plt.plot(predictions, label='Predicted (window_size = 15)')\n",
    "    plt.title(f\"Actual vs Predictions using model_s15 for {stock}\")\n",
    "    plt.legend()\n",
    "    makedirs('./results/test_validation/graphs/model_s15', exist_ok=True)\n",
    "    plt.savefig(f'./results/test_validation/graphs/model_s15/{stock}.png')\n",
    "    plt.clf()\n",
    "\n",
    "    len_predictions = len(predictions)\n",
    "    df_model_s15.loc[stock, 'MSE'] = mean_squared_error(stock_dict[stock][15:], predictions)\n",
    "    df_model_s15.loc[stock, 'RMSE'] = sqrt(mean_squared_error(stock_dict[stock][15:], predictions))\n",
    "    df_model_s15.loc[stock, 'MAE']= mean_absolute_error(stock_dict[stock][15:], predictions)\n",
    "    df_model_s15.loc[stock, 'MAPE'] = mean_absolute_percentage_error(stock_dict[stock][15:], predictions)"
   ]
  },
  {
   "cell_type": "code",
   "execution_count": 11,
   "metadata": {},
   "outputs": [],
   "source": [
    "# Save the dataframe in ./results/test_validation/model\n",
    "makedirs('./results/test_validation/model', exist_ok=True)\n",
    "df_model_s15.to_csv('./results/test_validation/model/model_s15.csv')"
   ]
  },
  {
   "cell_type": "code",
   "execution_count": 12,
   "metadata": {},
   "outputs": [
    {
     "name": "stdout",
     "output_type": "stream",
     "text": [
      "211/211 [==============================] - 0s 897us/step\n",
      "204/204 [==============================] - 0s 955us/step\n",
      "157/157 [==============================] - 0s 929us/step\n",
      "129/129 [==============================] - 0s 928us/step\n",
      "213/213 [==============================] - 0s 976us/step\n",
      "212/212 [==============================] - 0s 923us/step\n",
      "212/212 [==============================] - 0s 1ms/step\n",
      "213/213 [==============================] - 0s 910us/step\n",
      "209/209 [==============================] - 0s 1ms/step\n",
      "95/95 [==============================] - 0s 1ms/step\n",
      "184/184 [==============================] - 0s 923us/step\n",
      "212/212 [==============================] - 0s 943us/step\n",
      "213/213 [==============================] - 0s 905us/step\n",
      "86/86 [==============================] - 0s 865us/step\n",
      "118/118 [==============================] - 0s 935us/step\n",
      "121/121 [==============================] - 0s 851us/step\n",
      "118/118 [==============================] - 0s 1ms/step\n",
      "70/70 [==============================] - 0s 847us/step\n",
      "192/192 [==============================] - 0s 940us/step\n",
      "35/35 [==============================] - 0s 938us/step\n"
     ]
    },
    {
     "data": {
      "text/plain": [
       "<Figure size 1000x500 with 0 Axes>"
      ]
     },
     "metadata": {},
     "output_type": "display_data"
    },
    {
     "data": {
      "text/plain": [
       "<Figure size 1000x500 with 0 Axes>"
      ]
     },
     "metadata": {},
     "output_type": "display_data"
    },
    {
     "data": {
      "text/plain": [
       "<Figure size 1000x500 with 0 Axes>"
      ]
     },
     "metadata": {},
     "output_type": "display_data"
    },
    {
     "data": {
      "text/plain": [
       "<Figure size 1000x500 with 0 Axes>"
      ]
     },
     "metadata": {},
     "output_type": "display_data"
    },
    {
     "data": {
      "text/plain": [
       "<Figure size 1000x500 with 0 Axes>"
      ]
     },
     "metadata": {},
     "output_type": "display_data"
    },
    {
     "data": {
      "text/plain": [
       "<Figure size 1000x500 with 0 Axes>"
      ]
     },
     "metadata": {},
     "output_type": "display_data"
    },
    {
     "data": {
      "text/plain": [
       "<Figure size 1000x500 with 0 Axes>"
      ]
     },
     "metadata": {},
     "output_type": "display_data"
    },
    {
     "data": {
      "text/plain": [
       "<Figure size 1000x500 with 0 Axes>"
      ]
     },
     "metadata": {},
     "output_type": "display_data"
    },
    {
     "data": {
      "text/plain": [
       "<Figure size 1000x500 with 0 Axes>"
      ]
     },
     "metadata": {},
     "output_type": "display_data"
    },
    {
     "data": {
      "text/plain": [
       "<Figure size 1000x500 with 0 Axes>"
      ]
     },
     "metadata": {},
     "output_type": "display_data"
    },
    {
     "data": {
      "text/plain": [
       "<Figure size 1000x500 with 0 Axes>"
      ]
     },
     "metadata": {},
     "output_type": "display_data"
    },
    {
     "data": {
      "text/plain": [
       "<Figure size 1000x500 with 0 Axes>"
      ]
     },
     "metadata": {},
     "output_type": "display_data"
    },
    {
     "data": {
      "text/plain": [
       "<Figure size 1000x500 with 0 Axes>"
      ]
     },
     "metadata": {},
     "output_type": "display_data"
    },
    {
     "data": {
      "text/plain": [
       "<Figure size 1000x500 with 0 Axes>"
      ]
     },
     "metadata": {},
     "output_type": "display_data"
    },
    {
     "data": {
      "text/plain": [
       "<Figure size 1000x500 with 0 Axes>"
      ]
     },
     "metadata": {},
     "output_type": "display_data"
    },
    {
     "data": {
      "text/plain": [
       "<Figure size 1000x500 with 0 Axes>"
      ]
     },
     "metadata": {},
     "output_type": "display_data"
    },
    {
     "data": {
      "text/plain": [
       "<Figure size 1000x500 with 0 Axes>"
      ]
     },
     "metadata": {},
     "output_type": "display_data"
    },
    {
     "data": {
      "text/plain": [
       "<Figure size 1000x500 with 0 Axes>"
      ]
     },
     "metadata": {},
     "output_type": "display_data"
    },
    {
     "data": {
      "text/plain": [
       "<Figure size 1000x500 with 0 Axes>"
      ]
     },
     "metadata": {},
     "output_type": "display_data"
    },
    {
     "data": {
      "text/plain": [
       "<Figure size 1000x500 with 0 Axes>"
      ]
     },
     "metadata": {},
     "output_type": "display_data"
    }
   ],
   "source": [
    "# Load the model_s20\n",
    "model = tf.keras.models.load_model('./exported_models/model_s20.keras')\n",
    "\n",
    "# Initialize pandas dataframe for model_s20\n",
    "len_symbols = len(stock_symbols)\n",
    "df_model_s20 = pd.DataFrame({\n",
    "    'MSE': [0 for _ in range(len_symbols)],\n",
    "    'RMSE': [0 for _ in range(len_symbols)],\n",
    "    'MAE': [0 for _ in range(len_symbols)],\n",
    "    'MAPE': [0 for _ in range(len_symbols)]\n",
    "}, index=[stock for stock in stock_symbols])\n",
    "\n",
    "# Predict for all stocks using model_s20\n",
    "for stock in stock_symbols:\n",
    "    predictions = model.predict(X_stock_dict[stock][3])\n",
    "    # Plot each one\n",
    "    plt.figure(figsize=(10, 5))\n",
    "    plt.plot(stock_dict[stock][0], label=f'Actual for {stock}')\n",
    "    plt.plot(predictions, label='Predicted (window_size = 20)')\n",
    "    plt.title(f\"Actual vs Predictions using model_s20 for {stock}\")\n",
    "    plt.legend()\n",
    "    makedirs('./results/test_validation/graphs/model_s20', exist_ok=True)\n",
    "    plt.savefig(f'./results/test_validation/graphs/model_s20/{stock}.png')\n",
    "    plt.clf()\n",
    "\n",
    "    len_predictions = len(predictions)\n",
    "    df_model_s20.loc[stock, 'MSE'] = mean_squared_error(stock_dict[stock][20:], predictions)\n",
    "    df_model_s20.loc[stock, 'RMSE'] = sqrt(mean_squared_error(stock_dict[stock][20:], predictions))\n",
    "    df_model_s20.loc[stock, 'MAE']= mean_absolute_error(stock_dict[stock][20:], predictions)\n",
    "    df_model_s20.loc[stock, 'MAPE'] = mean_absolute_percentage_error(stock_dict[stock][20:], predictions)"
   ]
  },
  {
   "cell_type": "code",
   "execution_count": 13,
   "metadata": {},
   "outputs": [],
   "source": [
    "# Save the dataframe in ./results/test_validation/model\n",
    "makedirs('./results/test_validation/model', exist_ok=True)\n",
    "df_model_s20.to_csv('./results/test_validation/model/model_s20.csv')"
   ]
  },
  {
   "cell_type": "code",
   "execution_count": 14,
   "metadata": {},
   "outputs": [
    {
     "name": "stdout",
     "output_type": "stream",
     "text": [
      "211/211 [==============================] - 0s 883us/step\n",
      "204/204 [==============================] - 0s 983us/step\n",
      "158/158 [==============================] - 0s 919us/step\n",
      "130/130 [==============================] - 0s 1ms/step\n",
      "213/213 [==============================] - 0s 978us/step\n",
      "212/212 [==============================] - 0s 1ms/step\n",
      "213/213 [==============================] - 0s 936us/step\n",
      "213/213 [==============================] - 0s 1ms/step\n",
      "210/210 [==============================] - 0s 876us/step\n",
      "95/95 [==============================] - 0s 881us/step\n",
      "184/184 [==============================] - 0s 948us/step\n",
      "213/213 [==============================] - 0s 1ms/step\n",
      "213/213 [==============================] - 0s 984us/step\n",
      "87/87 [==============================] - 0s 863us/step\n",
      "118/118 [==============================] - 0s 958us/step\n",
      "122/122 [==============================] - 0s 1ms/step\n",
      "119/119 [==============================] - 0s 910us/step\n",
      "71/71 [==============================] - 0s 911us/step\n",
      "192/192 [==============================] - 0s 1ms/step\n",
      "36/36 [==============================] - 0s 877us/step\n"
     ]
    },
    {
     "data": {
      "text/plain": [
       "<Figure size 1000x500 with 0 Axes>"
      ]
     },
     "metadata": {},
     "output_type": "display_data"
    },
    {
     "data": {
      "text/plain": [
       "<Figure size 1000x500 with 0 Axes>"
      ]
     },
     "metadata": {},
     "output_type": "display_data"
    },
    {
     "data": {
      "text/plain": [
       "<Figure size 1000x500 with 0 Axes>"
      ]
     },
     "metadata": {},
     "output_type": "display_data"
    },
    {
     "data": {
      "text/plain": [
       "<Figure size 1000x500 with 0 Axes>"
      ]
     },
     "metadata": {},
     "output_type": "display_data"
    },
    {
     "data": {
      "text/plain": [
       "<Figure size 1000x500 with 0 Axes>"
      ]
     },
     "metadata": {},
     "output_type": "display_data"
    },
    {
     "data": {
      "text/plain": [
       "<Figure size 1000x500 with 0 Axes>"
      ]
     },
     "metadata": {},
     "output_type": "display_data"
    },
    {
     "data": {
      "text/plain": [
       "<Figure size 1000x500 with 0 Axes>"
      ]
     },
     "metadata": {},
     "output_type": "display_data"
    },
    {
     "data": {
      "text/plain": [
       "<Figure size 1000x500 with 0 Axes>"
      ]
     },
     "metadata": {},
     "output_type": "display_data"
    },
    {
     "data": {
      "text/plain": [
       "<Figure size 1000x500 with 0 Axes>"
      ]
     },
     "metadata": {},
     "output_type": "display_data"
    },
    {
     "data": {
      "text/plain": [
       "<Figure size 1000x500 with 0 Axes>"
      ]
     },
     "metadata": {},
     "output_type": "display_data"
    },
    {
     "data": {
      "text/plain": [
       "<Figure size 1000x500 with 0 Axes>"
      ]
     },
     "metadata": {},
     "output_type": "display_data"
    },
    {
     "data": {
      "text/plain": [
       "<Figure size 1000x500 with 0 Axes>"
      ]
     },
     "metadata": {},
     "output_type": "display_data"
    },
    {
     "data": {
      "text/plain": [
       "<Figure size 1000x500 with 0 Axes>"
      ]
     },
     "metadata": {},
     "output_type": "display_data"
    },
    {
     "data": {
      "text/plain": [
       "<Figure size 1000x500 with 0 Axes>"
      ]
     },
     "metadata": {},
     "output_type": "display_data"
    },
    {
     "data": {
      "text/plain": [
       "<Figure size 1000x500 with 0 Axes>"
      ]
     },
     "metadata": {},
     "output_type": "display_data"
    },
    {
     "data": {
      "text/plain": [
       "<Figure size 1000x500 with 0 Axes>"
      ]
     },
     "metadata": {},
     "output_type": "display_data"
    },
    {
     "data": {
      "text/plain": [
       "<Figure size 1000x500 with 0 Axes>"
      ]
     },
     "metadata": {},
     "output_type": "display_data"
    },
    {
     "data": {
      "text/plain": [
       "<Figure size 1000x500 with 0 Axes>"
      ]
     },
     "metadata": {},
     "output_type": "display_data"
    },
    {
     "data": {
      "text/plain": [
       "<Figure size 1000x500 with 0 Axes>"
      ]
     },
     "metadata": {},
     "output_type": "display_data"
    },
    {
     "data": {
      "text/plain": [
       "<Figure size 1000x500 with 0 Axes>"
      ]
     },
     "metadata": {},
     "output_type": "display_data"
    }
   ],
   "source": [
    "# Load the model_baseline5\n",
    "model = tf.keras.models.load_model('exported_models/model_baseline5.keras')\n",
    "\n",
    "# Initialize pandas dataframe for model_baseline5\n",
    "len_symbols = len(stock_symbols)\n",
    "df_model_baseline5 = pd.DataFrame({\n",
    "    'MSE': [0 for _ in range(len_symbols)],\n",
    "    'RMSE': [0 for _ in range(len_symbols)],\n",
    "    'MAE': [0 for _ in range(len_symbols)],\n",
    "    'MAPE': [0 for _ in range(len_symbols)]\n",
    "}, index=[stock for stock in stock_symbols])\n",
    "\n",
    "# Predict for all stocks using model_baseline5\n",
    "for stock in stock_symbols:\n",
    "    predictions = model.predict(X_stock_dict[stock][0])\n",
    "    # Plot each one\n",
    "    plt.figure(figsize=(10, 5))\n",
    "    plt.plot(stock_dict[stock][0], label=f'Actual for {stock}')\n",
    "    plt.plot(predictions, label='Predicted (window_size = 5)')\n",
    "    plt.title(f\"Actual vs Predictions using model_baseline5 for {stock}\")\n",
    "    plt.legend()\n",
    "    makedirs('./results/test_validation/graphs/model_baseline5', exist_ok=True)\n",
    "    plt.savefig(f'./results/test_validation/graphs/model_baseline5/{stock}.png')\n",
    "    plt.clf()\n",
    "\n",
    "    len_predictions = len(predictions)\n",
    "    df_model_baseline5.loc[stock, 'MSE'] = mean_squared_error(stock_dict[stock][5:], predictions)\n",
    "    df_model_baseline5.loc[stock, 'RMSE'] = sqrt(mean_squared_error(stock_dict[stock][5:], predictions))\n",
    "    df_model_baseline5.loc[stock, 'MAE']= mean_absolute_error(stock_dict[stock][5:], predictions)\n",
    "    df_model_baseline5.loc[stock, 'MAPE'] = mean_absolute_percentage_error(stock_dict[stock][5:], predictions)"
   ]
  },
  {
   "cell_type": "code",
   "execution_count": 15,
   "metadata": {},
   "outputs": [],
   "source": [
    "# Save the dataframe in ./results/test_validation/model\n",
    "makedirs('./results/test_validation/model', exist_ok=True)\n",
    "df_model_baseline5.to_csv('./results/test_validation/model/model_baseline5.csv')"
   ]
  },
  {
   "cell_type": "code",
   "execution_count": 16,
   "metadata": {},
   "outputs": [
    {
     "name": "stdout",
     "output_type": "stream",
     "text": [
      "211/211 [==============================] - 0s 1ms/step\n",
      "204/204 [==============================] - 0s 859us/step\n",
      "158/158 [==============================] - 0s 871us/step\n",
      "130/130 [==============================] - 0s 874us/step\n",
      "213/213 [==============================] - 0s 951us/step\n",
      "212/212 [==============================] - 0s 847us/step\n",
      "213/213 [==============================] - 0s 943us/step\n",
      "213/213 [==============================] - 0s 1ms/step\n",
      "210/210 [==============================] - 0s 923us/step\n",
      "95/95 [==============================] - 0s 881us/step\n",
      "184/184 [==============================] - 0s 2ms/step\n",
      "213/213 [==============================] - 0s 914us/step\n",
      "213/213 [==============================] - 0s 913us/step\n",
      "86/86 [==============================] - 0s 950us/step\n",
      "118/118 [==============================] - 0s 894us/step\n",
      "122/122 [==============================] - 0s 910us/step\n",
      "119/119 [==============================] - 0s 910us/step\n",
      "71/71 [==============================] - 0s 888us/step\n",
      "192/192 [==============================] - 0s 1ms/step\n",
      "36/36 [==============================] - 0s 841us/step\n"
     ]
    },
    {
     "data": {
      "text/plain": [
       "<Figure size 1000x500 with 0 Axes>"
      ]
     },
     "metadata": {},
     "output_type": "display_data"
    },
    {
     "data": {
      "text/plain": [
       "<Figure size 1000x500 with 0 Axes>"
      ]
     },
     "metadata": {},
     "output_type": "display_data"
    },
    {
     "data": {
      "text/plain": [
       "<Figure size 1000x500 with 0 Axes>"
      ]
     },
     "metadata": {},
     "output_type": "display_data"
    },
    {
     "data": {
      "text/plain": [
       "<Figure size 1000x500 with 0 Axes>"
      ]
     },
     "metadata": {},
     "output_type": "display_data"
    },
    {
     "data": {
      "text/plain": [
       "<Figure size 1000x500 with 0 Axes>"
      ]
     },
     "metadata": {},
     "output_type": "display_data"
    },
    {
     "data": {
      "text/plain": [
       "<Figure size 1000x500 with 0 Axes>"
      ]
     },
     "metadata": {},
     "output_type": "display_data"
    },
    {
     "data": {
      "text/plain": [
       "<Figure size 1000x500 with 0 Axes>"
      ]
     },
     "metadata": {},
     "output_type": "display_data"
    },
    {
     "data": {
      "text/plain": [
       "<Figure size 1000x500 with 0 Axes>"
      ]
     },
     "metadata": {},
     "output_type": "display_data"
    },
    {
     "data": {
      "text/plain": [
       "<Figure size 1000x500 with 0 Axes>"
      ]
     },
     "metadata": {},
     "output_type": "display_data"
    },
    {
     "data": {
      "text/plain": [
       "<Figure size 1000x500 with 0 Axes>"
      ]
     },
     "metadata": {},
     "output_type": "display_data"
    },
    {
     "data": {
      "text/plain": [
       "<Figure size 1000x500 with 0 Axes>"
      ]
     },
     "metadata": {},
     "output_type": "display_data"
    },
    {
     "data": {
      "text/plain": [
       "<Figure size 1000x500 with 0 Axes>"
      ]
     },
     "metadata": {},
     "output_type": "display_data"
    },
    {
     "data": {
      "text/plain": [
       "<Figure size 1000x500 with 0 Axes>"
      ]
     },
     "metadata": {},
     "output_type": "display_data"
    },
    {
     "data": {
      "text/plain": [
       "<Figure size 1000x500 with 0 Axes>"
      ]
     },
     "metadata": {},
     "output_type": "display_data"
    },
    {
     "data": {
      "text/plain": [
       "<Figure size 1000x500 with 0 Axes>"
      ]
     },
     "metadata": {},
     "output_type": "display_data"
    },
    {
     "data": {
      "text/plain": [
       "<Figure size 1000x500 with 0 Axes>"
      ]
     },
     "metadata": {},
     "output_type": "display_data"
    },
    {
     "data": {
      "text/plain": [
       "<Figure size 1000x500 with 0 Axes>"
      ]
     },
     "metadata": {},
     "output_type": "display_data"
    },
    {
     "data": {
      "text/plain": [
       "<Figure size 1000x500 with 0 Axes>"
      ]
     },
     "metadata": {},
     "output_type": "display_data"
    },
    {
     "data": {
      "text/plain": [
       "<Figure size 1000x500 with 0 Axes>"
      ]
     },
     "metadata": {},
     "output_type": "display_data"
    },
    {
     "data": {
      "text/plain": [
       "<Figure size 1000x500 with 0 Axes>"
      ]
     },
     "metadata": {},
     "output_type": "display_data"
    }
   ],
   "source": [
    "# Load the model_baseline10\n",
    "model = tf.keras.models.load_model('exported_models/model_baseline10.keras')\n",
    "\n",
    "# Initialize pandas dataframe for model_baseline10\n",
    "len_symbols = len(stock_symbols)\n",
    "df_model_baseline10 = pd.DataFrame({\n",
    "    'MSE': [0 for _ in range(len_symbols)],\n",
    "    'RMSE': [0 for _ in range(len_symbols)],\n",
    "    'MAE': [0 for _ in range(len_symbols)],\n",
    "    'MAPE': [0 for _ in range(len_symbols)]\n",
    "}, index=[stock for stock in stock_symbols])\n",
    "\n",
    "# Predict for all stocks using model_baseline10\n",
    "for stock in stock_symbols:\n",
    "    predictions = model.predict(X_stock_dict[stock][1])\n",
    "    # Plot each one\n",
    "    plt.figure(figsize=(10, 5))\n",
    "    plt.plot(stock_dict[stock][0], label=f'Actual for {stock}')\n",
    "    plt.plot(predictions, label='Predicted (window_size = 10)')\n",
    "    plt.title(f\"Actual vs Predictions using model_baseline10 for {stock}\")\n",
    "    plt.legend()\n",
    "    makedirs('./results/test_validation/graphs/model_baseline10', exist_ok=True)\n",
    "    plt.savefig(f'./results/test_validation/graphs/model_baseline10/{stock}.png')\n",
    "    plt.clf()\n",
    "\n",
    "    len_predictions = len(predictions)\n",
    "    df_model_baseline10.loc[stock, 'MSE'] = mean_squared_error(stock_dict[stock][10:], predictions)\n",
    "    df_model_baseline10.loc[stock, 'RMSE'] = sqrt(mean_squared_error(stock_dict[stock][10:], predictions))\n",
    "    df_model_baseline10.loc[stock, 'MAE']= mean_absolute_error(stock_dict[stock][10:], predictions)\n",
    "    df_model_baseline10.loc[stock, 'MAPE'] = mean_absolute_percentage_error(stock_dict[stock][10:], predictions)"
   ]
  },
  {
   "cell_type": "code",
   "execution_count": 17,
   "metadata": {},
   "outputs": [],
   "source": [
    "makedirs('./results/test_validation/model', exist_ok=True)\n",
    "df_model_baseline10.to_csv('./results/test_validation/model/model_baseline10.csv')"
   ]
  },
  {
   "cell_type": "code",
   "execution_count": 18,
   "metadata": {},
   "outputs": [
    {
     "name": "stdout",
     "output_type": "stream",
     "text": [
      "211/211 [==============================] - 0s 890us/step\n",
      "204/204 [==============================] - 0s 1ms/step\n",
      "158/158 [==============================] - 0s 877us/step\n",
      "129/129 [==============================] - 0s 888us/step\n",
      "213/213 [==============================] - 0s 914us/step\n",
      "212/212 [==============================] - 0s 1ms/step\n",
      "212/212 [==============================] - 0s 995us/step\n",
      "213/213 [==============================] - 0s 929us/step\n",
      "210/210 [==============================] - 0s 1ms/step\n",
      "95/95 [==============================] - 0s 911us/step\n",
      "184/184 [==============================] - 0s 953us/step\n",
      "212/212 [==============================] - 0s 1ms/step\n",
      "213/213 [==============================] - 0s 1ms/step\n",
      "86/86 [==============================] - 0s 957us/step\n",
      "118/118 [==============================] - 0s 936us/step\n",
      "122/122 [==============================] - 0s 921us/step\n",
      "119/119 [==============================] - 0s 992us/step\n",
      "70/70 [==============================] - 0s 1ms/step\n",
      "192/192 [==============================] - 0s 915us/step\n",
      "35/35 [==============================] - 0s 1ms/step\n"
     ]
    },
    {
     "data": {
      "text/plain": [
       "<Figure size 640x480 with 0 Axes>"
      ]
     },
     "metadata": {},
     "output_type": "display_data"
    }
   ],
   "source": [
    "# Load the model_baseline15\n",
    "model = tf.keras.models.load_model('exported_models/model_baseline15.keras')\n",
    "\n",
    "# Initialize pandas dataframe for model_baseline15\n",
    "len_symbols = len(stock_symbols)\n",
    "df_model_baseline15 = pd.DataFrame({\n",
    "    'MSE': [0 for _ in range(len_symbols)],\n",
    "    'RMSE': [0 for _ in range(len_symbols)],\n",
    "    'MAE': [0 for _ in range(len_symbols)],\n",
    "    'MAPE': [0 for _ in range(len_symbols)]\n",
    "}, index=[stock for stock in stock_symbols])\n",
    "\n",
    "# Predict for all stocks using model_baseline15\n",
    "for stock in stock_symbols:\n",
    "    predictions = model.predict(X_stock_dict[stock][2])\n",
    "    # Plot each one\n",
    "    plt.plot(stock_dict[stock][0], label=f'Actual for {stock}')\n",
    "    plt.plot(predictions, label='Predicted (window_size = 15)')\n",
    "    plt.title(f\"Actual vs Predictions using model_baseline15 for {stock}\")\n",
    "    plt.legend()\n",
    "    makedirs('./results/test_validation/graphs/model_baseline15', exist_ok=True)\n",
    "    plt.savefig(f'./results/test_validation/graphs/model_baseline15/{stock}.png')\n",
    "    plt.clf()\n",
    "\n",
    "    len_predictions = len(predictions)\n",
    "    df_model_baseline15.loc[stock, 'MSE'] = mean_squared_error(stock_dict[stock][15:], predictions)\n",
    "    df_model_baseline15.loc[stock, 'RMSE'] = sqrt(mean_squared_error(stock_dict[stock][15:], predictions))\n",
    "    df_model_baseline15.loc[stock, 'MAE']= mean_absolute_error(stock_dict[stock][15:], predictions)\n",
    "    df_model_baseline15.loc[stock, 'MAPE'] = mean_absolute_percentage_error(stock_dict[stock][15:], predictions)"
   ]
  },
  {
   "cell_type": "code",
   "execution_count": 19,
   "metadata": {},
   "outputs": [],
   "source": [
    "makedirs('./results/test_validation/model', exist_ok=True)\n",
    "df_model_baseline15.to_csv('./results/test_validation/model/model_baseline15.csv')"
   ]
  },
  {
   "cell_type": "code",
   "execution_count": 20,
   "metadata": {},
   "outputs": [
    {
     "name": "stdout",
     "output_type": "stream",
     "text": [
      "211/211 [==============================] - 0s 1ms/step\n",
      "204/204 [==============================] - 0s 946us/step\n",
      "157/157 [==============================] - 0s 926us/step\n",
      "129/129 [==============================] - 0s 975us/step\n",
      "213/213 [==============================] - 0s 888us/step\n",
      "212/212 [==============================] - 0s 920us/step\n",
      "212/212 [==============================] - 0s 902us/step\n",
      "213/213 [==============================] - 0s 891us/step\n",
      "209/209 [==============================] - 0s 949us/step\n",
      "95/95 [==============================] - 0s 913us/step\n",
      "184/184 [==============================] - 0s 1ms/step\n",
      "212/212 [==============================] - 0s 984us/step\n",
      "213/213 [==============================] - 0s 911us/step\n",
      "86/86 [==============================] - 0s 1ms/step\n",
      "118/118 [==============================] - 0s 981us/step\n",
      "121/121 [==============================] - 0s 971us/step\n",
      "118/118 [==============================] - 0s 917us/step\n",
      "70/70 [==============================] - 0s 851us/step\n",
      "192/192 [==============================] - 0s 946us/step\n",
      "35/35 [==============================] - 0s 1ms/step\n"
     ]
    },
    {
     "data": {
      "text/plain": [
       "<Figure size 1000x500 with 0 Axes>"
      ]
     },
     "metadata": {},
     "output_type": "display_data"
    },
    {
     "data": {
      "text/plain": [
       "<Figure size 1000x500 with 0 Axes>"
      ]
     },
     "metadata": {},
     "output_type": "display_data"
    },
    {
     "data": {
      "text/plain": [
       "<Figure size 1000x500 with 0 Axes>"
      ]
     },
     "metadata": {},
     "output_type": "display_data"
    },
    {
     "data": {
      "text/plain": [
       "<Figure size 1000x500 with 0 Axes>"
      ]
     },
     "metadata": {},
     "output_type": "display_data"
    },
    {
     "data": {
      "text/plain": [
       "<Figure size 1000x500 with 0 Axes>"
      ]
     },
     "metadata": {},
     "output_type": "display_data"
    },
    {
     "data": {
      "text/plain": [
       "<Figure size 1000x500 with 0 Axes>"
      ]
     },
     "metadata": {},
     "output_type": "display_data"
    },
    {
     "data": {
      "text/plain": [
       "<Figure size 1000x500 with 0 Axes>"
      ]
     },
     "metadata": {},
     "output_type": "display_data"
    },
    {
     "data": {
      "text/plain": [
       "<Figure size 1000x500 with 0 Axes>"
      ]
     },
     "metadata": {},
     "output_type": "display_data"
    },
    {
     "data": {
      "text/plain": [
       "<Figure size 1000x500 with 0 Axes>"
      ]
     },
     "metadata": {},
     "output_type": "display_data"
    },
    {
     "data": {
      "text/plain": [
       "<Figure size 1000x500 with 0 Axes>"
      ]
     },
     "metadata": {},
     "output_type": "display_data"
    },
    {
     "data": {
      "text/plain": [
       "<Figure size 1000x500 with 0 Axes>"
      ]
     },
     "metadata": {},
     "output_type": "display_data"
    },
    {
     "data": {
      "text/plain": [
       "<Figure size 1000x500 with 0 Axes>"
      ]
     },
     "metadata": {},
     "output_type": "display_data"
    },
    {
     "data": {
      "text/plain": [
       "<Figure size 1000x500 with 0 Axes>"
      ]
     },
     "metadata": {},
     "output_type": "display_data"
    },
    {
     "data": {
      "text/plain": [
       "<Figure size 1000x500 with 0 Axes>"
      ]
     },
     "metadata": {},
     "output_type": "display_data"
    },
    {
     "data": {
      "text/plain": [
       "<Figure size 1000x500 with 0 Axes>"
      ]
     },
     "metadata": {},
     "output_type": "display_data"
    },
    {
     "data": {
      "text/plain": [
       "<Figure size 1000x500 with 0 Axes>"
      ]
     },
     "metadata": {},
     "output_type": "display_data"
    },
    {
     "data": {
      "text/plain": [
       "<Figure size 1000x500 with 0 Axes>"
      ]
     },
     "metadata": {},
     "output_type": "display_data"
    },
    {
     "data": {
      "text/plain": [
       "<Figure size 1000x500 with 0 Axes>"
      ]
     },
     "metadata": {},
     "output_type": "display_data"
    },
    {
     "data": {
      "text/plain": [
       "<Figure size 1000x500 with 0 Axes>"
      ]
     },
     "metadata": {},
     "output_type": "display_data"
    },
    {
     "data": {
      "text/plain": [
       "<Figure size 1000x500 with 0 Axes>"
      ]
     },
     "metadata": {},
     "output_type": "display_data"
    }
   ],
   "source": [
    "# Load the model_baseline20\n",
    "model = tf.keras.models.load_model('exported_models/model_baseline20.keras')\n",
    "\n",
    "# Initialize pandas dataframe for model_baseline20\n",
    "len_symbols = len(stock_symbols)\n",
    "df_model_baseline20 = pd.DataFrame({\n",
    "    'MSE': [0 for _ in range(len_symbols)],\n",
    "    'RMSE': [0 for _ in range(len_symbols)],\n",
    "    'MAE': [0 for _ in range(len_symbols)],\n",
    "    'MAPE': [0 for _ in range(len_symbols)]\n",
    "}, index=[stock for stock in stock_symbols])\n",
    "\n",
    "# Predict for all stocks using model_baseline20\n",
    "for stock in stock_symbols:\n",
    "    predictions = model.predict(X_stock_dict[stock][3])\n",
    "    # Plot each one\n",
    "    plt.figure(figsize=(10, 5))\n",
    "    plt.plot(stock_dict[stock][0], label=f'Actual for {stock}')\n",
    "    plt.plot(predictions, label='Predicted (window_size = 20)')\n",
    "    plt.title(f\"Actual vs Predictions using model_baseline20 for {stock}\")\n",
    "    plt.legend()\n",
    "    makedirs('./results/test_validation/graphs/model_baseline20', exist_ok=True)\n",
    "    plt.savefig(f'./results/test_validation/graphs/model_baseline20/{stock}.png')\n",
    "    plt.clf()\n",
    "\n",
    "    len_predictions = len(predictions)\n",
    "    df_model_baseline20.loc[stock, 'MSE'] = mean_squared_error(stock_dict[stock][20:], predictions)\n",
    "    df_model_baseline20.loc[stock, 'RMSE'] = sqrt(mean_squared_error(stock_dict[stock][20:], predictions))\n",
    "    df_model_baseline20.loc[stock, 'MAE']= mean_absolute_error(stock_dict[stock][20:], predictions)\n",
    "    df_model_baseline20.loc[stock, 'MAPE'] = mean_absolute_percentage_error(stock_dict[stock][20:], predictions)"
   ]
  },
  {
   "cell_type": "code",
   "execution_count": 21,
   "metadata": {},
   "outputs": [],
   "source": [
    "makedirs('./results/test_validation/model', exist_ok=True)\n",
    "df_model_baseline20.to_csv('./results/test_validation/model/model_baseline20.csv')"
   ]
  }
 ],
 "metadata": {
  "kernelspec": {
   "display_name": "Python 3",
   "language": "python",
   "name": "python3"
  },
  "language_info": {
   "codemirror_mode": {
    "name": "ipython",
    "version": 3
   },
   "file_extension": ".py",
   "mimetype": "text/x-python",
   "name": "python",
   "nbconvert_exporter": "python",
   "pygments_lexer": "ipython3",
   "version": "3.9.10"
  },
  "orig_nbformat": 4,
  "vscode": {
   "interpreter": {
    "hash": "c73b41b33398381a63dda394fd0b0cb02413d3de08933cb9c9d1d83148e4d367"
   }
  }
 },
 "nbformat": 4,
 "nbformat_minor": 2
}
